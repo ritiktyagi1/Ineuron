{
 "cells": [
  {
   "cell_type": "markdown",
   "metadata": {},
   "source": [
    "# Python Assignment 4"
   ]
  },
  {
   "cell_type": "code",
   "execution_count": null,
   "metadata": {},
   "outputs": [],
   "source": [
    "\"\"\"1.1 Write a Python Program(with class concepts) to find the area of the triangle using the below\n",
    "formula.\n",
    "area = (s*(s-a)*(s-b)*(s-c)) ** 0.5\n",
    "Function to take the length of the sides of triangle from user should be defined in the parent\n",
    "class and function to calculate the area should be defined in subclass.\"\""
   ]
  },
  {
   "cell_type": "code",
   "execution_count": 1,
   "metadata": {},
   "outputs": [
    {
     "name": "stdout",
     "output_type": "stream",
     "text": [
      "a=5 \n",
      "b=7 \n",
      "c=9\n",
      "Area of traingle: 17.41228014936585\n"
     ]
    }
   ],
   "source": [
    "class Poly():\n",
    "    def __init__(self,a,b,c):\n",
    "        self.a=a\n",
    "        self.b=b\n",
    "        self.c=c\n",
    "a=int(input(\"a=\"))\n",
    "b=int(input(\"b=\"))\n",
    "c=int(input(\"c=\"))\n",
    "\n",
    "class Triangle(Poly):\n",
    "    def __init__(self,a,b,c):\n",
    "        super().__init__(a,b,c)\n",
    "    def area(self):\n",
    "        s = (a + b + c) / 2\n",
    "        return (s*(s-a)*(s-b)*(s-c)) ** 0.5\n",
    "\n",
    "t=Triangle(a,b,c)\n",
    "print(\"Area of traingle: {}\".format(t.area()))"
   ]
  },
  {
   "cell_type": "code",
   "execution_count": null,
   "metadata": {},
   "outputs": [],
   "source": [
    "\"\"\" 1.2 Write a function filter_long_words() that takes a list of words and an integer n and returns\n",
    "the list of words that are longer than n. \"\"\"\n"
   ]
  },
  {
   "cell_type": "code",
   "execution_count": 2,
   "metadata": {},
   "outputs": [
    {
     "name": "stdout",
     "output_type": "stream",
     "text": [
      "enter a string: hello,guys,my,name,is,ritik\n"
     ]
    },
    {
     "data": {
      "text/plain": [
       "['hello', 'guys', 'name', 'ritik']"
      ]
     },
     "execution_count": 2,
     "metadata": {},
     "output_type": "execute_result"
    }
   ],
   "source": [
    "def filter_long_words(lst1,n):\n",
    "    return [word for word in lst1 if len(word)>n]\n",
    "lst1=input(\"enter a string: \")\n",
    "lst1=lst1.split(',')\n",
    "filter_long_words(lst1,3)"
   ]
  },
  {
   "cell_type": "code",
   "execution_count": null,
   "metadata": {},
   "outputs": [],
   "source": [
    "\"\"\" 2.1 Write a Python program using function concept that maps list of words into a list of integers\n",
    "representing the lengths of the corresponding words.\"\"\""
   ]
  },
  {
   "cell_type": "code",
   "execution_count": 9,
   "metadata": {},
   "outputs": [
    {
     "name": "stdout",
     "output_type": "stream",
     "text": [
      "Enter words: hello,guys,what's,up,?\n"
     ]
    },
    {
     "data": {
      "text/plain": [
       "[5, 4, 6, 2, 1]"
      ]
     },
     "execution_count": 9,
     "metadata": {},
     "output_type": "execute_result"
    }
   ],
   "source": [
    "def list_length(lst1):\n",
    "    return [len(i) for i in lst1]\n",
    "lst1=input(\"Enter words: \").split(',')\n",
    "list_length(lst1)"
   ]
  },
  {
   "cell_type": "code",
   "execution_count": 8,
   "metadata": {},
   "outputs": [
    {
     "name": "stdout",
     "output_type": "stream",
     "text": [
      "Enter words: hello,guys,what's,up,?\n"
     ]
    },
    {
     "data": {
      "text/plain": [
       "[5, 4, 6, 2, 1]"
      ]
     },
     "execution_count": 8,
     "metadata": {},
     "output_type": "execute_result"
    }
   ],
   "source": [
    "def list_length(lst1):\n",
    "    return list(map(len,lst1))\n",
    "lst1=input(\"Enter words: \").split(',')\n",
    "list_length(lst1)"
   ]
  },
  {
   "cell_type": "code",
   "execution_count": null,
   "metadata": {},
   "outputs": [],
   "source": [
    "\"\"\" 2.2 Write a Python function which takes a character (i.e. a string of length 1) and returns True if\n",
    "it is a vowel, False otherwise. \"\"\""
   ]
  },
  {
   "cell_type": "code",
   "execution_count": 15,
   "metadata": {},
   "outputs": [
    {
     "ename": "SyntaxError",
     "evalue": "invalid syntax (<ipython-input-15-d64f92accfba>, line 7)",
     "output_type": "error",
     "traceback": [
      "\u001b[1;36m  File \u001b[1;32m\"<ipython-input-15-d64f92accfba>\"\u001b[1;36m, line \u001b[1;32m7\u001b[0m\n\u001b[1;33m    else ret_val=False\u001b[0m\n\u001b[1;37m               ^\u001b[0m\n\u001b[1;31mSyntaxError\u001b[0m\u001b[1;31m:\u001b[0m invalid syntax\n"
     ]
    }
   ],
   "source": [
    "def vowels(st):\n",
    "    lst1=['a','e','i','o','u']\n",
    "    ret_val=''\n",
    "    if(len(st)==1):\n",
    "        if(st.lower() in lst1):\n",
    "            ret_val= True\n",
    "        else ret_val=False\n",
    "    else print(\"enter a character\")\n",
    "    return ret_val\n",
    "\n",
    "st=input(\"Enter a character: \")\n",
    "vowels(st)"
   ]
  },
  {
   "cell_type": "code",
   "execution_count": null,
   "metadata": {},
   "outputs": [],
   "source": []
  }
 ],
 "metadata": {
  "kernelspec": {
   "display_name": "Python 3",
   "language": "python",
   "name": "python3"
  },
  "language_info": {
   "codemirror_mode": {
    "name": "ipython",
    "version": 3
   },
   "file_extension": ".py",
   "mimetype": "text/x-python",
   "name": "python",
   "nbconvert_exporter": "python",
   "pygments_lexer": "ipython3",
   "version": "3.6.10"
  }
 },
 "nbformat": 4,
 "nbformat_minor": 4
}
