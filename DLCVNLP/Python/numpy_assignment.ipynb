{
 "cells": [
  {
   "cell_type": "code",
   "execution_count": null,
   "metadata": {},
   "outputs": [],
   "source": [
    "\"\"\" Write a function so that the columns of the output matrix are powers of the input\n",
    "vector.\n",
    "The order of the powers is determined by the increasing boolean argument. Specifically, when\n",
    "increasing is False, the i-th output column is the input vector raised element-wise to the power\n",
    "of N - i - 1. \"\"\""
   ]
  },
  {
   "cell_type": "code",
   "execution_count": 1,
   "metadata": {},
   "outputs": [],
   "source": [
    "import numpy as np"
   ]
  },
  {
   "cell_type": "code",
   "execution_count": 3,
   "metadata": {},
   "outputs": [],
   "source": [
    "def vender_matrix(ivector,n,increasing=False):\n",
    "    if increasing:\n",
    "        omatrix=np.array([x**i for x in ivector for i in range(n)]).reshape(ivector.size,n)\n",
    "    elif not increasing:\n",
    "        omatrix=np.array([x**(n-1-i) for x in ivector for i in range(n)]).reshape(ivector.size,n)\n",
    "    return omatrix\n"
   ]
  },
  {
   "cell_type": "code",
   "execution_count": 7,
   "metadata": {},
   "outputs": [
    {
     "name": "stdout",
     "output_type": "stream",
     "text": [
      "The input vector:  [1 2 3 4 5] \n",
      "\n",
      "Number of columns in output matrix should be:  4 \n",
      "\n",
      "Vander matrix in dec order of powers:\n",
      " [[  1   1   1   1]\n",
      " [  8   4   2   1]\n",
      " [ 27   9   3   1]\n",
      " [ 64  16   4   1]\n",
      " [125  25   5   1]] \n",
      "\n",
      "Vander matrix in inc order of powers:\n",
      " [[  1   1   1   1]\n",
      " [  1   2   4   8]\n",
      " [  1   3   9  27]\n",
      " [  1   4  16  64]\n",
      " [  1   5  25 125]] \n",
      "\n"
     ]
    }
   ],
   "source": [
    "ivector= np.array([1,2,3,4,5])\n",
    "no_col=4\n",
    "omatrix_dec=vender_matrix(ivector,no_col,False)\n",
    "imatrix_inc=vender_matrix(ivector,no_col,True)\n",
    "print(\"The input vector: \",ivector,\"\\n\")\n",
    "print(\"Number of columns in output matrix should be: \",no_col,\"\\n\")\n",
    "print(\"Vander matrix in dec order of powers:\\n\",omatrix_dec,\"\\n\")\n",
    "print(\"Vander matrix in inc order of powers:\\n\",imatrix_inc,\"\\n\")\n",
    "\n"
   ]
  },
  {
   "cell_type": "code",
   "execution_count": null,
   "metadata": {},
   "outputs": [],
   "source": [
    "\"\"\" Write a function to find moving average in an array over a window:\n",
    "Test it over [3, 5, 7, 2, 8, 10, 11, 65, 72, 81, 99, 100, 150] and window of 3.\"\"\""
   ]
  },
  {
   "cell_type": "code",
   "execution_count": 25,
   "metadata": {},
   "outputs": [
    {
     "name": "stdout",
     "output_type": "stream",
     "text": [
      "[  5.           4.66666667   5.66666667   6.66666667   9.66666667\n",
      "  28.66666667  49.33333333  72.66666667  84.          93.33333333\n",
      " 116.33333333]\n"
     ]
    }
   ],
   "source": [
    "#winodw (n)=3\n",
    "def moving_average(a,n):\n",
    "    re=np.cumsum(a,dtype=float)\n",
    "    re[n:]=re[n:]-re[:-n]\n",
    "    return ret[n-1:]/n\n",
    "a = [3, 5, 7, 2, 8, 10, 11, 65, 72, 81, 99, 100, 150]\n",
    "print(moving_average(a,3))"
   ]
  },
  {
   "cell_type": "code",
   "execution_count": null,
   "metadata": {},
   "outputs": [],
   "source": []
  }
 ],
 "metadata": {
  "kernelspec": {
   "display_name": "Python 3",
   "language": "python",
   "name": "python3"
  },
  "language_info": {
   "codemirror_mode": {
    "name": "ipython",
    "version": 3
   },
   "file_extension": ".py",
   "mimetype": "text/x-python",
   "name": "python",
   "nbconvert_exporter": "python",
   "pygments_lexer": "ipython3",
   "version": "3.6.10"
  }
 },
 "nbformat": 4,
 "nbformat_minor": 4
}
